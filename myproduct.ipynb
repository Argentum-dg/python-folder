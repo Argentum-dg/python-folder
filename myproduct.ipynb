{
 "cells": [
  {
   "cell_type": "code",
   "execution_count": 1,
   "id": "f57734c9",
   "metadata": {},
   "outputs": [],
   "source": [
    "import numpy as np\n",
    "import pandas as pd\n",
    "import matplotlib.pyplot as plt"
   ]
  },
  {
   "cell_type": "code",
   "execution_count": 3,
   "id": "c5eea86f",
   "metadata": {},
   "outputs": [
    {
     "data": {
      "text/html": [
       "<div>\n",
       "<style scoped>\n",
       "    .dataframe tbody tr th:only-of-type {\n",
       "        vertical-align: middle;\n",
       "    }\n",
       "\n",
       "    .dataframe tbody tr th {\n",
       "        vertical-align: top;\n",
       "    }\n",
       "\n",
       "    .dataframe thead th {\n",
       "        text-align: right;\n",
       "    }\n",
       "</style>\n",
       "<table border=\"1\" class=\"dataframe\">\n",
       "  <thead>\n",
       "    <tr style=\"text-align: right;\">\n",
       "      <th></th>\n",
       "      <th>ID</th>\n",
       "      <th>Year_of_Birth</th>\n",
       "      <th>Education_Level</th>\n",
       "      <th>Marital_Status</th>\n",
       "      <th>Disposable_Income</th>\n",
       "      <th>No_of_Kids_in_home</th>\n",
       "      <th>No_of_Teen_in_home</th>\n",
       "      <th>Date_Customer</th>\n",
       "      <th>Recency</th>\n",
       "      <th>Discounted_Purchases</th>\n",
       "      <th>...</th>\n",
       "      <th>Amount_on_SweetProducts</th>\n",
       "      <th>Amount_on_GoldProds</th>\n",
       "      <th>WebVisitsMonth</th>\n",
       "      <th>Cmp3Accepted</th>\n",
       "      <th>Cmp4Accepted</th>\n",
       "      <th>Cmp5Accepted</th>\n",
       "      <th>Cmp1Accepted</th>\n",
       "      <th>Cmp2Accepted</th>\n",
       "      <th>Any_Complain</th>\n",
       "      <th>Response</th>\n",
       "    </tr>\n",
       "  </thead>\n",
       "  <tbody>\n",
       "    <tr>\n",
       "      <th>0</th>\n",
       "      <td>ID_4A9AR6FQ</td>\n",
       "      <td>1955</td>\n",
       "      <td>Graduation</td>\n",
       "      <td>Divorced</td>\n",
       "      <td>77504.4</td>\n",
       "      <td>1</td>\n",
       "      <td>1</td>\n",
       "      <td>22-06-2014</td>\n",
       "      <td>56</td>\n",
       "      <td>2</td>\n",
       "      <td>...</td>\n",
       "      <td>6</td>\n",
       "      <td>20</td>\n",
       "      <td>3</td>\n",
       "      <td>0</td>\n",
       "      <td>0</td>\n",
       "      <td>0</td>\n",
       "      <td>0</td>\n",
       "      <td>0</td>\n",
       "      <td>0</td>\n",
       "      <td>0</td>\n",
       "    </tr>\n",
       "    <tr>\n",
       "      <th>1</th>\n",
       "      <td>ID_X28T3VEK</td>\n",
       "      <td>1958</td>\n",
       "      <td>Graduation</td>\n",
       "      <td>Together</td>\n",
       "      <td>56784.0</td>\n",
       "      <td>0</td>\n",
       "      <td>1</td>\n",
       "      <td>01-08-2013</td>\n",
       "      <td>17</td>\n",
       "      <td>6</td>\n",
       "      <td>...</td>\n",
       "      <td>15</td>\n",
       "      <td>19</td>\n",
       "      <td>6</td>\n",
       "      <td>0</td>\n",
       "      <td>0</td>\n",
       "      <td>0</td>\n",
       "      <td>0</td>\n",
       "      <td>0</td>\n",
       "      <td>0</td>\n",
       "      <td>0</td>\n",
       "    </tr>\n",
       "    <tr>\n",
       "      <th>2</th>\n",
       "      <td>ID_AWXARH57</td>\n",
       "      <td>1962</td>\n",
       "      <td>Graduation</td>\n",
       "      <td>Single</td>\n",
       "      <td>103714.8</td>\n",
       "      <td>0</td>\n",
       "      <td>0</td>\n",
       "      <td>21-11-2013</td>\n",
       "      <td>17</td>\n",
       "      <td>0</td>\n",
       "      <td>...</td>\n",
       "      <td>18</td>\n",
       "      <td>37</td>\n",
       "      <td>2</td>\n",
       "      <td>0</td>\n",
       "      <td>0</td>\n",
       "      <td>0</td>\n",
       "      <td>1</td>\n",
       "      <td>0</td>\n",
       "      <td>0</td>\n",
       "      <td>1</td>\n",
       "    </tr>\n",
       "    <tr>\n",
       "      <th>3</th>\n",
       "      <td>ID_FQVZHE81</td>\n",
       "      <td>1979</td>\n",
       "      <td>2n Cycle</td>\n",
       "      <td>Single</td>\n",
       "      <td>46311.6</td>\n",
       "      <td>1</td>\n",
       "      <td>0</td>\n",
       "      <td>13-09-2013</td>\n",
       "      <td>49</td>\n",
       "      <td>3</td>\n",
       "      <td>...</td>\n",
       "      <td>24</td>\n",
       "      <td>24</td>\n",
       "      <td>8</td>\n",
       "      <td>0</td>\n",
       "      <td>0</td>\n",
       "      <td>0</td>\n",
       "      <td>0</td>\n",
       "      <td>0</td>\n",
       "      <td>0</td>\n",
       "      <td>0</td>\n",
       "    </tr>\n",
       "    <tr>\n",
       "      <th>4</th>\n",
       "      <td>ID_QVLWGPRN</td>\n",
       "      <td>1959</td>\n",
       "      <td>Graduation</td>\n",
       "      <td>Married</td>\n",
       "      <td>87486.0</td>\n",
       "      <td>0</td>\n",
       "      <td>0</td>\n",
       "      <td>21-01-2014</td>\n",
       "      <td>59</td>\n",
       "      <td>1</td>\n",
       "      <td>...</td>\n",
       "      <td>165</td>\n",
       "      <td>203</td>\n",
       "      <td>1</td>\n",
       "      <td>0</td>\n",
       "      <td>0</td>\n",
       "      <td>0</td>\n",
       "      <td>1</td>\n",
       "      <td>0</td>\n",
       "      <td>0</td>\n",
       "      <td>0</td>\n",
       "    </tr>\n",
       "  </tbody>\n",
       "</table>\n",
       "<p>5 rows × 27 columns</p>\n",
       "</div>"
      ],
      "text/plain": [
       "            ID  Year_of_Birth Education_Level Marital_Status  \\\n",
       "0  ID_4A9AR6FQ           1955      Graduation       Divorced   \n",
       "1  ID_X28T3VEK           1958      Graduation       Together   \n",
       "2  ID_AWXARH57           1962      Graduation         Single   \n",
       "3  ID_FQVZHE81           1979        2n Cycle         Single   \n",
       "4  ID_QVLWGPRN           1959      Graduation        Married   \n",
       "\n",
       "   Disposable_Income  No_of_Kids_in_home  No_of_Teen_in_home Date_Customer  \\\n",
       "0            77504.4                   1                   1    22-06-2014   \n",
       "1            56784.0                   0                   1    01-08-2013   \n",
       "2           103714.8                   0                   0    21-11-2013   \n",
       "3            46311.6                   1                   0    13-09-2013   \n",
       "4            87486.0                   0                   0    21-01-2014   \n",
       "\n",
       "   Recency  Discounted_Purchases  ...  Amount_on_SweetProducts  \\\n",
       "0       56                     2  ...                        6   \n",
       "1       17                     6  ...                       15   \n",
       "2       17                     0  ...                       18   \n",
       "3       49                     3  ...                       24   \n",
       "4       59                     1  ...                      165   \n",
       "\n",
       "   Amount_on_GoldProds  WebVisitsMonth  Cmp3Accepted  Cmp4Accepted  \\\n",
       "0                   20               3             0             0   \n",
       "1                   19               6             0             0   \n",
       "2                   37               2             0             0   \n",
       "3                   24               8             0             0   \n",
       "4                  203               1             0             0   \n",
       "\n",
       "   Cmp5Accepted  Cmp1Accepted  Cmp2Accepted  Any_Complain  Response  \n",
       "0             0             0             0             0         0  \n",
       "1             0             0             0             0         0  \n",
       "2             0             1             0             0         1  \n",
       "3             0             0             0             0         0  \n",
       "4             0             1             0             0         0  \n",
       "\n",
       "[5 rows x 27 columns]"
      ]
     },
     "execution_count": 3,
     "metadata": {},
     "output_type": "execute_result"
    }
   ],
   "source": [
    "myproduct=pd.read_csv(\"D:\\\\Desktop\\\\python\\\\Num\\\\product.csv\")\n",
    "myproduct.head()"
   ]
  },
  {
   "cell_type": "code",
   "execution_count": 4,
   "id": "63727c74",
   "metadata": {},
   "outputs": [],
   "source": [
    "year=np.array(myproduct[\"Year_of_Birth\"])\n",
    "edu=np.array(myproduct[\"Education_Level\"])\n",
    "sta=np.array(myproduct[\"Marital_Status\"])\n",
    "kid=np.array(myproduct[\"No_of_Kids_in_home\"])\n",
    "teen=np.array(myproduct[\"No_of_Teen_in_home\"])"
   ]
  },
  {
   "cell_type": "code",
   "execution_count": 5,
   "id": "dcd6230a",
   "metadata": {},
   "outputs": [
    {
     "ename": "TypeError",
     "evalue": "_sum_dispatcher() missing 1 required positional argument: 'a'",
     "output_type": "error",
     "traceback": [
      "\u001b[1;31m---------------------------------------------------------------------------\u001b[0m",
      "\u001b[1;31mTypeError\u001b[0m                                 Traceback (most recent call last)",
      "\u001b[1;32m<ipython-input-5-7a7855b7e6cc>\u001b[0m in \u001b[0;36m<module>\u001b[1;34m\u001b[0m\n\u001b[1;32m----> 1\u001b[1;33m \u001b[0mnp\u001b[0m\u001b[1;33m.\u001b[0m\u001b[0msum\u001b[0m\u001b[1;33m(\u001b[0m\u001b[1;33m)\u001b[0m\u001b[1;33m\u001b[0m\u001b[1;33m\u001b[0m\u001b[0m\n\u001b[0m",
      "\u001b[1;32m<__array_function__ internals>\u001b[0m in \u001b[0;36msum\u001b[1;34m(*args, **kwargs)\u001b[0m\n",
      "\u001b[1;31mTypeError\u001b[0m: _sum_dispatcher() missing 1 required positional argument: 'a'"
     ]
    }
   ],
   "source": []
  },
  {
   "cell_type": "code",
   "execution_count": 6,
   "id": "485b0000",
   "metadata": {
    "scrolled": true
   },
   "outputs": [
    {
     "name": "stdout",
     "output_type": "stream",
     "text": [
      "<class 'pandas.core.frame.DataFrame'>\n",
      "RangeIndex: 1568 entries, 0 to 1567\n",
      "Data columns (total 27 columns):\n",
      " #   Column                   Non-Null Count  Dtype  \n",
      "---  ------                   --------------  -----  \n",
      " 0   ID                       1568 non-null   object \n",
      " 1   Year_of_Birth            1568 non-null   int64  \n",
      " 2   Education_Level          1568 non-null   object \n",
      " 3   Marital_Status           1568 non-null   object \n",
      " 4   Disposable_Income        1552 non-null   float64\n",
      " 5   No_of_Kids_in_home       1568 non-null   int64  \n",
      " 6   No_of_Teen_in_home       1568 non-null   int64  \n",
      " 7   Date_Customer            1568 non-null   object \n",
      " 8   Recency                  1568 non-null   int64  \n",
      " 9   Discounted_Purchases     1568 non-null   int64  \n",
      " 10  WebPurchases             1568 non-null   int64  \n",
      " 11  CatalogPurchases         1568 non-null   int64  \n",
      " 12  StorePurchases           1568 non-null   int64  \n",
      " 13  Amount_on_Wines          1568 non-null   int64  \n",
      " 14  Amount_on_Fruits         1568 non-null   int64  \n",
      " 15  Amount_on_MeatProducts   1568 non-null   int64  \n",
      " 16  Amount_on_FishProducts   1568 non-null   int64  \n",
      " 17  Amount_on_SweetProducts  1568 non-null   int64  \n",
      " 18  Amount_on_GoldProds      1568 non-null   int64  \n",
      " 19  WebVisitsMonth           1568 non-null   int64  \n",
      " 20  Cmp3Accepted             1568 non-null   int64  \n",
      " 21  Cmp4Accepted             1568 non-null   int64  \n",
      " 22  Cmp5Accepted             1568 non-null   int64  \n",
      " 23  Cmp1Accepted             1568 non-null   int64  \n",
      " 24  Cmp2Accepted             1568 non-null   int64  \n",
      " 25  Any_Complain             1568 non-null   int64  \n",
      " 26  Response                 1568 non-null   int64  \n",
      "dtypes: float64(1), int64(22), object(4)\n",
      "memory usage: 306.3+ KB\n"
     ]
    }
   ],
   "source": [
    "myproduct.info()"
   ]
  },
  {
   "cell_type": "code",
   "execution_count": 7,
   "id": "b45bac07",
   "metadata": {},
   "outputs": [
    {
     "data": {
      "text/plain": [
       "array([ 71, 205, 469, ..., 820,  57,  18], dtype=int64)"
      ]
     },
     "execution_count": 7,
     "metadata": {},
     "output_type": "execute_result"
    }
   ],
   "source": [
    "wines=np.array(myproduct[\"Amount_on_Wines\"])\n",
    "wines"
   ]
  },
  {
   "cell_type": "code",
   "execution_count": 8,
   "id": "d21217be",
   "metadata": {},
   "outputs": [
    {
     "data": {
      "text/plain": [
       "475402"
      ]
     },
     "execution_count": 8,
     "metadata": {},
     "output_type": "execute_result"
    }
   ],
   "source": [
    "np.sum(wines)"
   ]
  },
  {
   "cell_type": "code",
   "execution_count": 11,
   "id": "f5661050",
   "metadata": {},
   "outputs": [
    {
     "data": {
      "text/plain": [
       "array([ 3, 22, 31, ..., 11,  3,  5], dtype=int64)"
      ]
     },
     "execution_count": 11,
     "metadata": {},
     "output_type": "execute_result"
    }
   ],
   "source": [
    "fruits=np.array(myproduct[\"Amount_on_Fruits\"])\n",
    "fruits"
   ]
  },
  {
   "cell_type": "code",
   "execution_count": 12,
   "id": "8a106a15",
   "metadata": {},
   "outputs": [
    {
     "data": {
      "text/plain": [
       "45615"
      ]
     },
     "execution_count": 12,
     "metadata": {},
     "output_type": "execute_result"
    }
   ],
   "source": [
    "np.sum(fruits)"
   ]
  },
  {
   "cell_type": "code",
   "execution_count": 14,
   "id": "dc061166",
   "metadata": {},
   "outputs": [
    {
     "data": {
      "text/plain": [
       "array([ 16, 111, 873, ...,  53,   9,  18], dtype=int64)"
      ]
     },
     "execution_count": 14,
     "metadata": {},
     "output_type": "execute_result"
    }
   ],
   "source": [
    "meats=np.array(myproduct[\"Amount_on_MeatProducts\"])\n",
    "meats"
   ]
  },
  {
   "cell_type": "code",
   "execution_count": 15,
   "id": "0589eadc",
   "metadata": {},
   "outputs": [
    {
     "data": {
      "text/plain": [
       "264014"
      ]
     },
     "execution_count": 15,
     "metadata": {},
     "output_type": "execute_result"
    }
   ],
   "source": [
    "np.sum(meats)"
   ]
  },
  {
   "cell_type": "code",
   "execution_count": 16,
   "id": "fee9bc28",
   "metadata": {},
   "outputs": [
    {
     "data": {
      "text/plain": [
       "array([ 0, 50, 29, ..., 11,  0,  6], dtype=int64)"
      ]
     },
     "execution_count": 16,
     "metadata": {},
     "output_type": "execute_result"
    }
   ],
   "source": [
    "fish=np.array(myproduct[\"Amount_on_FishProducts\"])\n",
    "fish"
   ]
  },
  {
   "cell_type": "code",
   "execution_count": 17,
   "id": "ce199f99",
   "metadata": {},
   "outputs": [
    {
     "data": {
      "text/plain": [
       "58277"
      ]
     },
     "execution_count": 17,
     "metadata": {},
     "output_type": "execute_result"
    }
   ],
   "source": [
    "np.sum(fish)"
   ]
  },
  {
   "cell_type": "code",
   "execution_count": 19,
   "id": "1bdafb32",
   "metadata": {},
   "outputs": [
    {
     "data": {
      "text/plain": [
       "array([['ID_4A9AR6FQ', 1955, 'Graduation', ..., 0, 0, 0],\n",
       "       ['ID_X28T3VEK', 1958, 'Graduation', ..., 0, 0, 0],\n",
       "       ['ID_AWXARH57', 1962, 'Graduation', ..., 0, 0, 1],\n",
       "       ...,\n",
       "       ['ID_O11VSIJY', 1952, 'Master', ..., 0, 0, 0],\n",
       "       ['ID_VS37P6MS', 1964, 'PhD', ..., 0, 0, 0],\n",
       "       ['ID_AKHOY7EI', 1970, 'Graduation', ..., 0, 0, 0]], dtype=object)"
      ]
     },
     "execution_count": 19,
     "metadata": {},
     "output_type": "execute_result"
    }
   ],
   "source": [
    "newarr=np.array(myproduct)\n",
    "newarr"
   ]
  },
  {
   "cell_type": "code",
   "execution_count": 20,
   "id": "060a6803",
   "metadata": {},
   "outputs": [
    {
     "data": {
      "text/plain": [
       "array([['Graduation', 3, 16, 0],\n",
       "       ['Graduation', 22, 111, 50],\n",
       "       ['Graduation', 31, 873, 29],\n",
       "       ...,\n",
       "       ['Master', 11, 53, 11],\n",
       "       ['PhD', 3, 9, 0],\n",
       "       ['Graduation', 5, 18, 6]], dtype=object)"
      ]
     },
     "execution_count": 20,
     "metadata": {},
     "output_type": "execute_result"
    }
   ],
   "source": [
    "arr=newarr[:,[2,14,15,16]]\n",
    "arr"
   ]
  },
  {
   "cell_type": "code",
   "execution_count": 21,
   "id": "56b3eac6",
   "metadata": {},
   "outputs": [],
   "source": [
    "grafruitlist=[]\n",
    "otherlist=[]\n",
    "for x in arr:\n",
    "    if x[0]==\"Graduation\":\n",
    "        grafruitlist.append(x[1])\n",
    "    else:\n",
    "        otherlist.append(x[1])\n",
    "        "
   ]
  },
  {
   "cell_type": "code",
   "execution_count": 22,
   "id": "6ace8945",
   "metadata": {},
   "outputs": [
    {
     "data": {
      "text/plain": [
       "array([  3,  22,  31, 117,  31,  94,   4,   6,   9,  22,   8,   5,  13,\n",
       "         3,   3,  48,  56,   3,  20,   4,   3,   3,  15,   6, 132,  12,\n",
       "        47,  52,   3,   7,  12,   7,   3,   7,  17, 111,   4,   4,   5,\n",
       "        47,   8,   3,   3,  18,  26,   3,  37,   3,   9,   3,   6,   3,\n",
       "         3, 147,  14,   7,   7,   9,   3, 115,  26,  75,   5,   8,  24,\n",
       "         6,  33,   3,   6,  15,  10,   3, 141,  69,  10,   8,   4,  20,\n",
       "        24,   3,  46,  10,   5,  20,   9,  13,   3,  86, 109,  26,   4,\n",
       "        93, 164,  26, 162,  27,  13, 110,   5,  31,   3,   4, 165,   5,\n",
       "         6,   8,  17,   5, 108,  50,   3,  46,   3,  73,  51,  63,   8,\n",
       "        10,   6,  13, 141,   3, 164,   3,  17, 132, 126,   5,   7,  37,\n",
       "         6,   8,   3, 101,   5, 152,  18,   7, 196,   3,  15,  87,  12,\n",
       "        74,   3, 117, 118,  13,  19,   4,  54,   3,   4,  11,   3,   6,\n",
       "       111,  13,   3,   7,   4,  10,   7,   7,   3,   6, 101,   5,  34,\n",
       "         5,  64,  27,   4,  64,  32, 158,  26, 162,  68,  18,  27,  34,\n",
       "        38,  45,  41,  74,  30,   9,  56,  73,   4,   4,  90,  19,   3,\n",
       "        12,  92,   8,  14,  47,  25,  54,  12, 135,   3,   9, 181,  13,\n",
       "        11, 154,  35,   4,  15,  24,  29,  16,   6,  13,  62,   5,  20,\n",
       "         3, 129,   4,  10,  22, 156,  24, 141,   3,  13,   8,  41,  72,\n",
       "         3,   3,  50, 136,   3,  34,   5,  24, 171,  80,  50,   8,  13,\n",
       "        96,  66,  17,  17,  10,  18,   5,   3,   3, 186,  11,   3,  31,\n",
       "         9,  82,   6, 137,   6,  12,   3,  31,  80,   6,   4,  16, 108,\n",
       "        63,  11,   3, 109,   5,   3,  10,   3, 188,   6,   5,  64, 141,\n",
       "         7,   5, 202,   4,   3,   7,  23,   4,  29,  57,  26, 169,   3,\n",
       "         9,  16,   6,  38,   4,   7,   4,  19,   8,  10,   4,   8,  39,\n",
       "        10,  15, 165,   9,  11,   3,   3,  38,  54,  23,  43,  43,   3,\n",
       "         6,   3,  37,   3,   5,  79,  11,  26,  72,  11,   5,  17, 132,\n",
       "         6,  19,  11, 101,  48,   4,  11,  14, 108,   4,  23,   7,   3,\n",
       "        84, 188,  16, 156,   9,   4,   6, 127,   5,  11,   4,  37,  36,\n",
       "         4,  11,   9,  13,   3,   4,  27,   3,  10, 118,   3,   9,  52,\n",
       "        51,  20, 109,   7,  13,  13,  18,   6,  46,   4,  60,   5, 132,\n",
       "         3,   5,  15,   4, 175,   3,  13,   7,   8,  10,  63,  10,   3,\n",
       "         9,  83,  62,   9,  10,  10,  53,  91,  24,   6,  35,   6, 102,\n",
       "        30,  46,  79, 110,  18,  10,  10,  19,   3,  15,   6, 164,   3,\n",
       "         4,  34,   3, 102,   3,  78,   5, 136,  79,  65, 107,  16,  10,\n",
       "       175, 175,   5,   6,   3,  15,  36, 140,   3,  13,   8,   7,  21,\n",
       "         4,   3,   3,  68, 155,   6,  24,   9, 107,  12,   6,   3,  10,\n",
       "        41,  64,  83,  10,  38,   3,   3,  83,   8,  19,  25,   3,  39,\n",
       "        17,   3,  20,  64,   4,   5,   7,  22,  13,   5,  41,  30,   5,\n",
       "         5,  84,  12,   4,   5,  12,   9,  36,  38,   6,   7,   6,   9,\n",
       "         3,  12,   9, 175,   6,  28,  15,   4,   5,  61,  31,   7,  22,\n",
       "         4,  32,  76,  21,  27,  23,   7,  21,   3,  38,  56,   5,   4,\n",
       "        51,  31,   4,   3,   7,   3,   3,   4,   8,  29,  39,  11,  12,\n",
       "         4,  28,  10, 181,   4, 120,   5, 105,  13,  10,  59,  14,  36,\n",
       "        49,   3,  10,  19,   5,  20,   3,   3,  22,   3,   4,  15,  10,\n",
       "         3,   8,   6,  26,   3,   5,  12,   3,  71,   5,  10,  38,  19,\n",
       "        30,  41,  15,  21,  41,   3,   4,   3,  20, 172,  23, 102,  38,\n",
       "        13,   5,   9,   6,   4,  26,   4,   3,  77,   4,   8,   4,   3,\n",
       "        50,  15,   3,   7,   7,  53, 137,  15,   4,  62,  29,  22,  64,\n",
       "        28,  87,  16,  31,  79,  86,  46,   8,  35, 104,   4,   4, 154,\n",
       "         4,   9,   3,   5,  27,   5,  35,  45,   3,   8,   9, 151,   8,\n",
       "        25,  63,   3,   4,   3,  10,   3,  47,   4,   8,  24,  49,   3,\n",
       "        45, 157,   9,   3,   7,   4,   8,  24,  83,  59,   3,  11,   5,\n",
       "        38,  75,   4,  30,  26,   5,  13,  13,   5,  15, 141,  30, 143,\n",
       "        24,  20,  86, 123,  20,  39,   3,  61,  13,  20,   3,  39,  53,\n",
       "         5,   3,   4,   7,  14,   4,   3,  20,   6,  54,  46, 126,  15,\n",
       "       150, 134,  13,  13,  38,  26, 123, 163,   4,  14,   8,   4,   6,\n",
       "       172,   9,  84,  67,  29,   9,   5,  16,   3,   3,  14,   8,  28,\n",
       "        24,  11, 132,  31,   6,   5,   9, 155,   5,  88,  24,  46,   3,\n",
       "         3,  73,   7,  14,  51, 117,   9,   7, 164,   6,   5,   7,  43,\n",
       "        17,  23,  12,   5,  15,  27,   5, 141,  15,   3,  92, 117,   3,\n",
       "        10,   4, 184,   7,  11,   3,  45,   4,  20,   4,   4,  12,  54,\n",
       "         3,  61,  14,   4,   7,   7,   4,  53,   5])"
      ]
     },
     "execution_count": 22,
     "metadata": {},
     "output_type": "execute_result"
    }
   ],
   "source": [
    "gra=np.array(grafruitlist)\n",
    "gra"
   ]
  },
  {
   "cell_type": "code",
   "execution_count": 23,
   "id": "a2c006aa",
   "metadata": {},
   "outputs": [
    {
     "data": {
      "text/plain": [
       "'PhD'"
      ]
     },
     "execution_count": 23,
     "metadata": {},
     "output_type": "execute_result"
    }
   ],
   "source": [
    "edu[wines.argmax()]"
   ]
  },
  {
   "cell_type": "code",
   "execution_count": 24,
   "id": "aa690242",
   "metadata": {},
   "outputs": [
    {
     "data": {
      "text/plain": [
       "'Basic'"
      ]
     },
     "execution_count": 24,
     "metadata": {},
     "output_type": "execute_result"
    }
   ],
   "source": [
    "edu[wines.argmin()]"
   ]
  },
  {
   "cell_type": "code",
   "execution_count": 25,
   "id": "4aa2a9f4",
   "metadata": {},
   "outputs": [
    {
     "data": {
      "text/plain": [
       "'Married'"
      ]
     },
     "execution_count": 25,
     "metadata": {},
     "output_type": "execute_result"
    }
   ],
   "source": [
    "sta[wines.argmax()]"
   ]
  },
  {
   "cell_type": "code",
   "execution_count": 26,
   "id": "fba664c7",
   "metadata": {},
   "outputs": [
    {
     "data": {
      "text/plain": [
       "'Single'"
      ]
     },
     "execution_count": 26,
     "metadata": {},
     "output_type": "execute_result"
    }
   ],
   "source": [
    "sta[wines.argmin()]"
   ]
  },
  {
   "cell_type": "code",
   "execution_count": 27,
   "id": "5d860b76",
   "metadata": {},
   "outputs": [
    {
     "data": {
      "text/plain": [
       "1950"
      ]
     },
     "execution_count": 27,
     "metadata": {},
     "output_type": "execute_result"
    }
   ],
   "source": [
    "year[wines.argmax()]"
   ]
  },
  {
   "cell_type": "code",
   "execution_count": 28,
   "id": "d9df3450",
   "metadata": {},
   "outputs": [
    {
     "data": {
      "text/plain": [
       "1992"
      ]
     },
     "execution_count": 28,
     "metadata": {},
     "output_type": "execute_result"
    }
   ],
   "source": [
    "year[wines.argmin()]"
   ]
  },
  {
   "cell_type": "code",
   "execution_count": null,
   "id": "33983644",
   "metadata": {},
   "outputs": [],
   "source": []
  }
 ],
 "metadata": {
  "kernelspec": {
   "display_name": "Python 3",
   "language": "python",
   "name": "python3"
  },
  "language_info": {
   "codemirror_mode": {
    "name": "ipython",
    "version": 3
   },
   "file_extension": ".py",
   "mimetype": "text/x-python",
   "name": "python",
   "nbconvert_exporter": "python",
   "pygments_lexer": "ipython3",
   "version": "3.8.8"
  }
 },
 "nbformat": 4,
 "nbformat_minor": 5
}
